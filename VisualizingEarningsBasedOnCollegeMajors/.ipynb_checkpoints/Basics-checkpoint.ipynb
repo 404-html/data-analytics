{
 "cells": [
  {
   "cell_type": "markdown",
   "metadata": {
    "collapsed": true
   },
   "source": [
    "# Introduction"
   ]
  },
  {
   "cell_type": "code",
   "execution_count": 1,
   "metadata": {
    "collapsed": false
   },
   "outputs": [
    {
     "name": "stdout",
     "output_type": "stream",
     "text": [
      "Rank                                        1\n",
      "Major_code                               2419\n",
      "Major                   PETROLEUM ENGINEERING\n",
      "Total                                    2339\n",
      "Men                                      2057\n",
      "Women                                     282\n",
      "Major_category                    Engineering\n",
      "ShareWomen                           0.120564\n",
      "Sample_size                                36\n",
      "Employed                                 1976\n",
      "Full_time                                1849\n",
      "Part_time                                 270\n",
      "Full_time_year_round                     1207\n",
      "Unemployed                                 37\n",
      "Unemployment_rate                   0.0183805\n",
      "Median                                 110000\n",
      "P25th                                   95000\n",
      "P75th                                  125000\n",
      "College_jobs                             1534\n",
      "Non_college_jobs                          364\n",
      "Low_wage_jobs                             193\n",
      "Name: 0, dtype: object\n",
      "   Rank  Major_code                                      Major    Total  \\\n",
      "0     1        2419                      PETROLEUM ENGINEERING   2339.0   \n",
      "1     2        2416             MINING AND MINERAL ENGINEERING    756.0   \n",
      "2     3        2415                  METALLURGICAL ENGINEERING    856.0   \n",
      "3     4        2417  NAVAL ARCHITECTURE AND MARINE ENGINEERING   1258.0   \n",
      "4     5        2405                       CHEMICAL ENGINEERING  32260.0   \n",
      "\n",
      "       Men    Women Major_category  ShareWomen  Sample_size  Employed  \\\n",
      "0   2057.0    282.0    Engineering    0.120564           36      1976   \n",
      "1    679.0     77.0    Engineering    0.101852            7       640   \n",
      "2    725.0    131.0    Engineering    0.153037            3       648   \n",
      "3   1123.0    135.0    Engineering    0.107313           16       758   \n",
      "4  21239.0  11021.0    Engineering    0.341631          289     25694   \n",
      "\n",
      "       ...        Part_time  Full_time_year_round  Unemployed  \\\n",
      "0      ...              270                  1207          37   \n",
      "1      ...              170                   388          85   \n",
      "2      ...              133                   340          16   \n",
      "3      ...              150                   692          40   \n",
      "4      ...             5180                 16697        1672   \n",
      "\n",
      "   Unemployment_rate  Median  P25th   P75th  College_jobs  Non_college_jobs  \\\n",
      "0           0.018381  110000  95000  125000          1534               364   \n",
      "1           0.117241   75000  55000   90000           350               257   \n",
      "2           0.024096   73000  50000  105000           456               176   \n",
      "3           0.050125   70000  43000   80000           529               102   \n",
      "4           0.061098   65000  50000   75000         18314              4440   \n",
      "\n",
      "   Low_wage_jobs  \n",
      "0            193  \n",
      "1             50  \n",
      "2              0  \n",
      "3              0  \n",
      "4            972  \n",
      "\n",
      "[5 rows x 21 columns]\n",
      "     Rank  Major_code                   Major   Total     Men   Women  \\\n",
      "168   169        3609                 ZOOLOGY  8409.0  3050.0  5359.0   \n",
      "169   170        5201  EDUCATIONAL PSYCHOLOGY  2854.0   522.0  2332.0   \n",
      "170   171        5202     CLINICAL PSYCHOLOGY  2838.0   568.0  2270.0   \n",
      "171   172        5203   COUNSELING PSYCHOLOGY  4626.0   931.0  3695.0   \n",
      "172   173        3501         LIBRARY SCIENCE  1098.0   134.0   964.0   \n",
      "\n",
      "               Major_category  ShareWomen  Sample_size  Employed  \\\n",
      "168    Biology & Life Science    0.637293           47      6259   \n",
      "169  Psychology & Social Work    0.817099            7      2125   \n",
      "170  Psychology & Social Work    0.799859           13      2101   \n",
      "171  Psychology & Social Work    0.798746           21      3777   \n",
      "172                 Education    0.877960            2       742   \n",
      "\n",
      "         ...        Part_time  Full_time_year_round  Unemployed  \\\n",
      "168      ...             2190                  3602         304   \n",
      "169      ...              572                  1211         148   \n",
      "170      ...              648                  1293         368   \n",
      "171      ...              965                  2738         214   \n",
      "172      ...              237                   410          87   \n",
      "\n",
      "     Unemployment_rate  Median  P25th  P75th  College_jobs  Non_college_jobs  \\\n",
      "168           0.046320   26000  20000  39000          2771              2947   \n",
      "169           0.065112   25000  24000  34000          1488               615   \n",
      "170           0.149048   25000  25000  40000           986               870   \n",
      "171           0.053621   23400  19200  26000          2403              1245   \n",
      "172           0.104946   22000  20000  22000           288               338   \n",
      "\n",
      "     Low_wage_jobs  \n",
      "168            743  \n",
      "169             82  \n",
      "170            622  \n",
      "171            308  \n",
      "172            192  \n",
      "\n",
      "[5 rows x 21 columns]\n"
     ]
    }
   ],
   "source": [
    "import pandas as pd\n",
    "import matplotlib.pyplot as plt\n",
    "% matplotlib inline\n",
    "recent_grads = pd.read_csv('recent-grads.csv')\n",
    "print(recent_grads.iloc[0])\n",
    "print(recent_grads.head())\n",
    "print(recent_grads.tail())\n",
    "recent_grads = recent_grads.dropna()"
   ]
  },
  {
   "cell_type": "markdown",
   "metadata": {},
   "source": [
    "# Pandas, Scatter Plots"
   ]
  },
  {
   "cell_type": "code",
   "execution_count": 2,
   "metadata": {
    "collapsed": false
   },
   "outputs": [
    {
     "data": {
      "text/plain": [
       "<matplotlib.axes._subplots.AxesSubplot at 0x7f0dec92a518>"
      ]
     },
     "execution_count": 2,
     "metadata": {},
     "output_type": "execute_result"
    },
    {
     "data": {
      "image/png": "[encoded data removed]",
      "text/plain": [
       "<matplotlib.figure.Figure at 0x7f0e39e13438>"
      ]
     },
     "metadata": {},
     "output_type": "display_data"
    }
   ],
   "source": [
    "recent_grads.plot(x='Sample_size', y='Median', kind='scatter')"
   ]
  },
  {
   "cell_type": "code",
   "execution_count": null,
   "metadata": {
    "collapsed": true
   },
   "outputs": [],
   "source": []
  }
 ],
 "metadata": {
  "kernelspec": {
   "display_name": "Python 3",
   "language": "python",
   "name": "python3"
  },
  "language_info": {
   "codemirror_mode": {
    "name": "ipython",
    "version": 3
   },
   "file_extension": ".py",
   "mimetype": "text/x-python",
   "name": "python",
   "nbconvert_exporter": "python",
   "pygments_lexer": "ipython3",
   "version": "3.4.3"
  }
 },
 "nbformat": 4,
 "nbformat_minor": 0
}
